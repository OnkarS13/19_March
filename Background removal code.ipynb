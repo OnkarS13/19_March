{
 "cells": [
  {
   "cell_type": "code",
   "execution_count": null,
   "id": "04ef32dc-24f7-42f3-ba5d-da1d4ffe0e53",
   "metadata": {},
   "outputs": [],
   "source": [
    "# !pip install rembg"
   ]
  },
  {
   "cell_type": "code",
   "execution_count": null,
   "id": "ef3e3e5d-b815-4d31-9d44-094b8cad4d2b",
   "metadata": {},
   "outputs": [],
   "source": [
    "# from rembg import remove\n",
    "# import cv2"
   ]
  },
  {
   "cell_type": "code",
   "execution_count": null,
   "id": "aaa5b293-b0bc-49a7-928b-fb1ebb9a593e",
   "metadata": {},
   "outputs": [],
   "source": [
    "# input_path = r\"/home/agrograde/Desktop/background_change_test/1622732483_5884447.jpg\""
   ]
  },
  {
   "cell_type": "code",
   "execution_count": null,
   "id": "87fd61c7-7e07-4df5-b7f2-50943f057a69",
   "metadata": {},
   "outputs": [],
   "source": [
    "# output_path = \"/home/agrograde/Desktop/background_change_test/\""
   ]
  },
  {
   "cell_type": "code",
   "execution_count": null,
   "id": "562e46b3-9d8f-4b58-ade1-399a874d26e9",
   "metadata": {},
   "outputs": [],
   "source": [
    "# input = cv2.imread(input_path)"
   ]
  },
  {
   "cell_type": "code",
   "execution_count": null,
   "id": "ccff2849-055a-41c0-85c3-5a08e28f8415",
   "metadata": {},
   "outputs": [],
   "source": [
    "# output = remove(input)"
   ]
  },
  {
   "cell_type": "code",
   "execution_count": null,
   "id": "57ad4b80-dad3-476f-830f-59e9169a85ef",
   "metadata": {},
   "outputs": [],
   "source": [
    "# print(output)"
   ]
  },
  {
   "cell_type": "code",
   "execution_count": null,
   "id": "9a10972d-8c43-460d-82f0-b334fe831032",
   "metadata": {},
   "outputs": [],
   "source": [
    "# cv2.imwrite(output_path,output)"
   ]
  },
  {
   "cell_type": "code",
   "execution_count": null,
   "id": "e37ae02b-19a5-4912-9d7e-b3a5a97fff31",
   "metadata": {},
   "outputs": [],
   "source": [
    "# image.ndim"
   ]
  },
  {
   "cell_type": "code",
   "execution_count": null,
   "id": "59233250-42d1-4f03-b470-e4e9ce4db965",
   "metadata": {},
   "outputs": [],
   "source": [
    "# image.shape"
   ]
  },
  {
   "cell_type": "code",
   "execution_count": 1,
   "id": "81510bcc-3842-4db2-9639-1eac2684d322",
   "metadata": {},
   "outputs": [],
   "source": [
    "from rembg import remove\n",
    "import cv2\n",
    "import os"
   ]
  },
  {
   "cell_type": "code",
   "execution_count": 2,
   "id": "872fbf75-a1cc-41c8-93a1-96b4dd5495f0",
   "metadata": {},
   "outputs": [],
   "source": [
    "def background_change(input_dir,output_dir):\n",
    "    \n",
    "    for i in os.listdir(input_dir):\n",
    "        if i.endswith(\".jpg\"):\n",
    "            src = os.path.join(input_dir,i)\n",
    "            img = cv2.imread(src)\n",
    "            output = remove(img)\n",
    "            output_name = os.path.join(output_dir,i)\n",
    "            cv2.imwrite(output_name,output) ### imwrite takes the absolute path of the future image with its new created name as well\n",
    "        #print(\"Background changes successfully\")\n",
    "        "
   ]
  },
  {
   "cell_type": "code",
   "execution_count": 3,
   "id": "dcb78951-ea23-4896-a2e1-69e44cd22d4f",
   "metadata": {},
   "outputs": [
    {
     "name": "stderr",
     "output_type": "stream",
     "text": [
      "Downloading data from 'https://github.com/danielgatis/rembg/releases/download/v0.0.0/u2net.onnx' to file '/home/agrograde/.u2net/u2net.onnx'.\n",
      "100%|████████████████████████████████████████| 176M/176M [00:00<00:00, 228GB/s]\n"
     ]
    },
    {
     "name": "stdout",
     "output_type": "stream",
     "text": [
      "Background changes successfully\n",
      "Background changes successfully\n",
      "Background changes successfully\n",
      "Background changes successfully\n",
      "Background changes successfully\n",
      "Background changes successfully\n",
      "Background changes successfully\n",
      "Background changes successfully\n",
      "Background changes successfully\n",
      "Background changes successfully\n",
      "Background changes successfully\n",
      "Background changes successfully\n",
      "Background changes successfully\n",
      "Background changes successfully\n",
      "Background changes successfully\n",
      "Background changes successfully\n",
      "Background changes successfully\n",
      "Background changes successfully\n",
      "Background changes successfully\n",
      "Background changes successfully\n",
      "Background changes successfully\n",
      "Background changes successfully\n",
      "Background changes successfully\n",
      "Background changes successfully\n",
      "Background changes successfully\n",
      "Background changes successfully\n",
      "Background changes successfully\n",
      "Background changes successfully\n",
      "Background changes successfully\n",
      "Background changes successfully\n",
      "Background changes successfully\n",
      "Background changes successfully\n",
      "Background changes successfully\n",
      "Background changes successfully\n",
      "Background changes successfully\n",
      "Background changes successfully\n",
      "Background changes successfully\n",
      "Background changes successfully\n",
      "Background changes successfully\n",
      "Background changes successfully\n",
      "Background changes successfully\n",
      "Background changes successfully\n",
      "Background changes successfully\n",
      "Background changes successfully\n",
      "Background changes successfully\n",
      "Background changes successfully\n",
      "Background changes successfully\n",
      "Background changes successfully\n",
      "Background changes successfully\n",
      "Background changes successfully\n",
      "Background changes successfully\n",
      "Background changes successfully\n",
      "Background changes successfully\n",
      "Background changes successfully\n",
      "Background changes successfully\n",
      "Background changes successfully\n",
      "Background changes successfully\n",
      "Background changes successfully\n",
      "Background changes successfully\n",
      "Background changes successfully\n",
      "Background changes successfully\n",
      "Background changes successfully\n",
      "Background changes successfully\n",
      "Background changes successfully\n",
      "Background changes successfully\n",
      "Background changes successfully\n",
      "Background changes successfully\n",
      "Background changes successfully\n",
      "Background changes successfully\n",
      "Background changes successfully\n",
      "Background changes successfully\n",
      "Background changes successfully\n",
      "Background changes successfully\n",
      "Background changes successfully\n",
      "Background changes successfully\n",
      "Background changes successfully\n",
      "Background changes successfully\n",
      "Background changes successfully\n",
      "Background changes successfully\n",
      "Background changes successfully\n",
      "Background changes successfully\n",
      "Background changes successfully\n",
      "Background changes successfully\n",
      "Background changes successfully\n",
      "Background changes successfully\n",
      "Background changes successfully\n",
      "Background changes successfully\n",
      "Background changes successfully\n",
      "Background changes successfully\n",
      "Background changes successfully\n",
      "Background changes successfully\n",
      "Background changes successfully\n",
      "Background changes successfully\n",
      "Background changes successfully\n",
      "Background changes successfully\n",
      "Background changes successfully\n",
      "Background changes successfully\n",
      "Background changes successfully\n",
      "Background changes successfully\n",
      "Background changes successfully\n",
      "Background changes successfully\n",
      "Background changes successfully\n",
      "Background changes successfully\n",
      "Background changes successfully\n",
      "Background changes successfully\n",
      "Background changes successfully\n",
      "Background changes successfully\n",
      "Background changes successfully\n",
      "Background changes successfully\n",
      "Background changes successfully\n",
      "Background changes successfully\n",
      "Background changes successfully\n",
      "Background changes successfully\n",
      "Background changes successfully\n",
      "Background changes successfully\n",
      "Background changes successfully\n",
      "Background changes successfully\n",
      "Background changes successfully\n",
      "Background changes successfully\n",
      "Background changes successfully\n",
      "Background changes successfully\n",
      "Background changes successfully\n",
      "Background changes successfully\n",
      "Background changes successfully\n",
      "Background changes successfully\n",
      "Background changes successfully\n",
      "Background changes successfully\n",
      "Background changes successfully\n",
      "Background changes successfully\n",
      "Background changes successfully\n",
      "Background changes successfully\n",
      "Background changes successfully\n",
      "Background changes successfully\n",
      "Background changes successfully\n",
      "Background changes successfully\n",
      "Background changes successfully\n",
      "Background changes successfully\n",
      "Background changes successfully\n",
      "Background changes successfully\n",
      "Background changes successfully\n",
      "Background changes successfully\n",
      "Background changes successfully\n",
      "Background changes successfully\n",
      "Background changes successfully\n",
      "Background changes successfully\n",
      "Background changes successfully\n",
      "Background changes successfully\n",
      "Background changes successfully\n",
      "Background changes successfully\n",
      "Background changes successfully\n",
      "Background changes successfully\n",
      "Background changes successfully\n",
      "Background changes successfully\n",
      "Background changes successfully\n",
      "Background changes successfully\n",
      "Background changes successfully\n",
      "Background changes successfully\n",
      "Background changes successfully\n",
      "Background changes successfully\n",
      "Background changes successfully\n",
      "Background changes successfully\n",
      "Background changes successfully\n",
      "Background changes successfully\n",
      "Background changes successfully\n",
      "Background changes successfully\n"
     ]
    }
   ],
   "source": [
    "background_change(r\"/home/agrograde/Desktop/18th_may/blue_background/images1\",r\"/home/agrograde/Desktop/18th_may/blue_background/images\")"
   ]
  },
  {
   "cell_type": "code",
   "execution_count": null,
   "id": "c901f7c4-311b-4ae6-bd03-6afbd404a14e",
   "metadata": {},
   "outputs": [],
   "source": []
  }
 ],
 "metadata": {
  "kernelspec": {
   "display_name": "Python 3 (ipykernel)",
   "language": "python",
   "name": "python3"
  },
  "language_info": {
   "codemirror_mode": {
    "name": "ipython",
    "version": 3
   },
   "file_extension": ".py",
   "mimetype": "text/x-python",
   "name": "python",
   "nbconvert_exporter": "python",
   "pygments_lexer": "ipython3",
   "version": "3.9.13"
  }
 },
 "nbformat": 4,
 "nbformat_minor": 5
}
